{
 "cells": [
  {
   "cell_type": "code",
   "execution_count": 46,
   "id": "0a01c4ee-c963-4e93-b68d-f45a7d1f7a68",
   "metadata": {},
   "outputs": [],
   "source": [
    "# init search client\n",
    "from search_python_client.search import DrsClient, SearchClient\n",
    "base_url = 'http://localhost:8089/'\n",
    "search_client = SearchClient(base_url=base_url)"
   ]
  },
  {
   "cell_type": "code",
   "execution_count": 52,
   "id": "15522260-1c9a-4229-8f4b-45a5de2014d3",
   "metadata": {},
   "outputs": [
    {
     "name": "stdout",
     "output_type": "stream",
     "text": [
      "[{'name': 'fasp.ontology.axiom', 'data_model': {'$ref': 'http://localhost:8089/table/fasp.ontology.axiom/info'}}, {'name': 'fasp.ontology.temporary_axiom', 'data_model': {'$ref': 'http://localhost:8089/table/fasp.ontology.temporary_axiom/info'}}, {'name': 'fasp.public.databasechangelog', 'data_model': {'$ref': 'http://localhost:8089/table/fasp.public.databasechangelog/info'}}, {'name': 'fasp.public.databasechangeloglock', 'data_model': {'$ref': 'http://localhost:8089/table/fasp.public.databasechangeloglock/info'}}, {'name': 'fasp.public.fact', 'data_model': {'$ref': 'http://localhost:8089/table/fasp.public.fact/info'}}, {'name': 'fasp.public.mutation', 'data_model': {'$ref': 'http://localhost:8089/table/fasp.public.mutation/info'}}, {'name': 'fasp.public.one_thousand_genomes_sample', 'data_model': {'$ref': 'http://localhost:8089/table/fasp.public.one_thousand_genomes_sample/info'}}, {'name': 'fasp.public.participant', 'data_model': {'$ref': 'http://localhost:8089/table/fasp.public.participant/info'}}, {'name': 'fasp.public.phenopacket_v1', 'data_model': {'$ref': 'http://localhost:8089/table/fasp.public.phenopacket_v1/info'}}, {'name': 'minio.phenopackets.persons', 'data_model': {'$ref': 'http://localhost:8089/table/minio.phenopackets.persons/info'}}, {'name': 'minio.phenopackets.phenopacket', 'data_model': {'$ref': 'http://localhost:8089/table/minio.phenopackets.phenopacket/info'}}, {'name': 'minio.phenopackets.subject', 'data_model': {'$ref': 'http://localhost:8089/table/minio.phenopackets.subject/info'}}]\n"
     ]
    }
   ],
   "source": [
    "# get tables\n",
    "tables_iterator = search_client.get_table_list()\n",
    "tables = [next(tables_iterator, None) for i in range(5000)]\n",
    "def by_name(it):\n",
    "    if it is None:\n",
    "        return False\n",
    "    else:\n",
    "        if it['name'].startswith('fasp') or it['name'].startswith('minio'):\n",
    "            return True\n",
    "        else:\n",
    "            return False\n",
    "        \n",
    "tables = list(filter(by_name, tables))\n",
    "print(tables)\n"
   ]
  },
  {
   "cell_type": "code",
   "execution_count": 53,
   "id": "eb37298d-90de-4d9c-8a3f-b7792ce39259",
   "metadata": {},
   "outputs": [
    {
     "data": {
      "text/plain": [
       "{'name': 'fasp.public.mutation',\n",
       " 'data_model': {'$ref': 'http://localhost:8089/table/fasp.public.mutation/info'}}"
      ]
     },
     "execution_count": 53,
     "metadata": {},
     "output_type": "execute_result"
    }
   ],
   "source": [
    "tables[5]"
   ]
  },
  {
   "cell_type": "code",
   "execution_count": 54,
   "id": "c48c9d70-d81d-46b7-8137-5c5d39329087",
   "metadata": {},
   "outputs": [
    {
     "name": "stdout",
     "output_type": "stream",
     "text": [
      "                             name                     description  \\\n",
      "$id          fasp.public.mutation  Automatically generated schema   \n",
      "description  fasp.public.mutation  Automatically generated schema   \n",
      "$schema      fasp.public.mutation  Automatically generated schema   \n",
      "properties   fasp.public.mutation  Automatically generated schema   \n",
      "\n",
      "                                                    data_model  \n",
      "$id          http://localhost:8089/table/fasp.public.mutati...  \n",
      "description                     Automatically generated schema  \n",
      "$schema                http://json-schema.org/draft-07/schema#  \n",
      "properties   {'participant_id': {'format': 'varchar', 'type...  \n"
     ]
    }
   ],
   "source": [
    "# get table info\n",
    "table_name = \"fasp.public.mutation\"\n",
    "# table_name = \"minio.phenopackets.subject\"\n",
    "table_info = search_client.get_table_info(table_name)\n",
    "print(table_info)"
   ]
  },
  {
   "cell_type": "code",
   "execution_count": 55,
   "id": "61523193-50e6-45df-b8aa-d02d96ebea62",
   "metadata": {},
   "outputs": [
    {
     "name": "stdout",
     "output_type": "stream",
     "text": [
      "                                                name  \\\n",
      "$id          fasp.public.one_thousand_genomes_sample   \n",
      "description  fasp.public.one_thousand_genomes_sample   \n",
      "$schema      fasp.public.one_thousand_genomes_sample   \n",
      "properties   fasp.public.one_thousand_genomes_sample   \n",
      "\n",
      "                                description  \\\n",
      "$id          Automatically generated schema   \n",
      "description  Automatically generated schema   \n",
      "$schema      Automatically generated schema   \n",
      "properties   Automatically generated schema   \n",
      "\n",
      "                                                    data_model  \n",
      "$id          http://localhost:8089/table/fasp.public.one_th...  \n",
      "description                     Automatically generated schema  \n",
      "$schema                http://json-schema.org/draft-07/schema#  \n",
      "properties   {'id': {'format': 'integer', 'type': 'int', '$...  \n"
     ]
    }
   ],
   "source": [
    "table_name = \"fasp.public.one_thousand_genomes_sample\"\n",
    "# table_name = \"minio.phenopackets.subject\"\n",
    "table_info = search_client.get_table_info(table_name)\n",
    "print(table_info)"
   ]
  },
  {
   "cell_type": "code",
   "execution_count": 56,
   "id": "d29374a8-aba9-4d5a-93c6-88e92d4503ba",
   "metadata": {},
   "outputs": [
    {
     "name": "stdout",
     "output_type": "stream",
     "text": [
      "[{'participant_id': 'PGPC-56', 'gene_name': 'CHMP4C', 'harmful': False}, {'participant_id': 'PGPC-56', 'gene_name': 'TRMT12', 'harmful': False}, {'participant_id': 'PGPC-56', 'gene_name': 'OTUD6B', 'harmful': False}, {'participant_id': 'PGPC-56', 'gene_name': 'SNAI2', 'harmful': True}, {'participant_id': 'PGPC-56', 'gene_name': 'PREX2', 'harmful': False}, {'participant_id': 'PGPC-56', 'gene_name': 'LACTB2', 'harmful': False}, {'participant_id': 'PGPC-21', 'gene_name': 'CHRAC1', 'harmful': False}, {'participant_id': 'PGPC-21', 'gene_name': 'C8orf33', 'harmful': True}, {'participant_id': 'PGPC-21', 'gene_name': 'RRS1', 'harmful': False}, {'participant_id': 'PGPC-21', 'gene_name': 'TRPS1', 'harmful': True}]\n"
     ]
    }
   ],
   "source": [
    "# get table data\n",
    "table_name = \"fasp.public.mutation\"\n",
    "# table_name = \"minio.phenopackets.subject\"\n",
    "table_data_iterator = search_client.get_table_data(table_name)\n",
    "table_data = [next(table_data_iterator, None) for i in range(10)]\n",
    "table_data = list(filter(None, table_data))\n",
    "print(table_data)\n"
   ]
  },
  {
   "cell_type": "code",
   "execution_count": null,
   "id": "81cc4546-59e9-4096-acd2-345f595d91e8",
   "metadata": {},
   "outputs": [],
   "source": []
  }
 ],
 "metadata": {
  "kernelspec": {
   "display_name": "Python [conda env:dataconnect]",
   "language": "python",
   "name": "conda-env-dataconnect-py"
  },
  "language_info": {
   "codemirror_mode": {
    "name": "ipython",
    "version": 3
   },
   "file_extension": ".py",
   "mimetype": "text/x-python",
   "name": "python",
   "nbconvert_exporter": "python",
   "pygments_lexer": "ipython3",
   "version": "3.12.3"
  }
 },
 "nbformat": 4,
 "nbformat_minor": 5
}
